{
 "cells": [
  {
   "cell_type": "markdown",
   "id": "eb0ca393",
   "metadata": {},
   "source": [
    "## REAL ESTATE-PRICE PREDICT  "
   ]
  },
  {
   "cell_type": "code",
   "execution_count": 1,
   "id": "05949d42",
   "metadata": {},
   "outputs": [],
   "source": [
    "import pandas as pd"
   ]
  },
  {
   "cell_type": "code",
   "execution_count": 2,
   "id": "b831c09f",
   "metadata": {},
   "outputs": [],
   "source": [
    "housing = pd.read_csv(\"DATA.csv\")"
   ]
  },
  {
   "cell_type": "code",
   "execution_count": 3,
   "id": "3608f3c4",
   "metadata": {},
   "outputs": [],
   "source": [
    "housing.head()"
   ]
  },
  {
   "cell_type": "code",
   "execution_count": 4,
   "id": "52edef1d",
   "metadata": {},
   "outputs": [],
   "source": [
    "housing.describe()"
   ]
  },
  {
   "cell_type": "markdown",
   "id": "59d1f0d8",
   "metadata": {},
   "source": [
    "# MISSING ATTRIBUTES"
   ]
  },
  {
   "cell_type": "code",
   "execution_count": 5,
   "id": "bfb1bab6",
   "metadata": {},
   "outputs": [],
   "source": [
    "from sklearn.impute import SimpleImputer\n",
    "imputer = SimpleImputer(strategy='median')\n",
    "imputer.fit(housing)\n",
    "x=imputer.transform(housing)\n",
    "housing_tr = pd.DataFrame(x,columns=housing.columns)\n",
    "imputer.statistics_\n"
   ]
  },
  {
   "cell_type": "markdown",
   "id": "0ec9c907",
   "metadata": {},
   "source": [
    "# TRAIN-TEST SPLITTING"
   ]
  },
  {
   "cell_type": "code",
   "execution_count": 6,
   "id": "cc39fb13",
   "metadata": {},
   "outputs": [],
   "source": [
    "from sklearn.model_selection import train_test_split\n",
    "train_,test_set = train_test_split(housing,test_size=0.2,random_state=42)"
   ]
  },
  {
   "cell_type": "code",
   "execution_count": 7,
   "id": "3d8eb19e",
   "metadata": {},
   "outputs": [],
   "source": [
    "from sklearn.model_selection import StratifiedShuffleSplit \n",
    "split = StratifiedShuffleSplit(n_splits=1, test_size=0.2, random_state=42) \n",
    "for train_index, test_index in split.split(housing, housing['CHAS']): \n",
    "    strat_train_set = housing.loc[train_index] \n",
    "    strat_test_set = housing.loc[test_index]"
   ]
  },
  {
   "cell_type": "markdown",
   "id": "82a0ffda",
   "metadata": {},
   "source": [
    "## CORRELATION"
   ]
  },
  {
   "cell_type": "code",
   "execution_count": 8,
   "id": "450a127b",
   "metadata": {},
   "outputs": [],
   "source": [
    "corr_matrix=housing.corr()\n",
    "corr_matrix['MEDV'].sort_values(ascending=False)"
   ]
  },
  {
   "cell_type": "code",
   "execution_count": 9,
   "id": "6e6c30e4",
   "metadata": {},
   "outputs": [],
   "source": [
    "from pandas.plotting import scatter_matrix\n",
    "attributes=['MEDV','RM','ZN','LSTAT']\n",
    "scatter_matrix(housing[attributes],figsize=(12,8))"
   ]
  },
  {
   "cell_type": "code",
   "execution_count": 10,
   "id": "a2fc6c99",
   "metadata": {},
   "outputs": [],
   "source": [
    "housing_tr = strat_train_set.drop(\"MEDV\",axis=1)\n",
    "housing_labels = strat_train_set[\"MEDV\"].copy()"
   ]
  },
  {
   "cell_type": "markdown",
   "id": "15f332fb",
   "metadata": {},
   "source": [
    "## CREATING PIPELINE"
   ]
  },
  {
   "cell_type": "code",
   "execution_count": 11,
   "id": "7a5ee46c",
   "metadata": {},
   "outputs": [],
   "source": [
    "from sklearn.pipeline import Pipeline\n",
    "from sklearn.preprocessing import StandardScaler\n",
    "my_pipeline = Pipeline([('imputer',SimpleImputer(strategy='median')),\n",
    "                        ('std_scaler',StandardScaler()),\n",
    "                       ])\n",
    "housing_num_tr = my_pipeline.fit_transform(housing_tr)"
   ]
  },
  {
   "cell_type": "markdown",
   "id": "72da0a17",
   "metadata": {},
   "source": [
    "# CHOOSING MODEL"
   ]
  },
  {
   "cell_type": "markdown",
   "id": "7612c8fe",
   "metadata": {},
   "source": [
    "## MODEL-1"
   ]
  },
  {
   "cell_type": "code",
   "execution_count": 12,
   "id": "fdfeed89",
   "metadata": {},
   "outputs": [],
   "source": [
    "from sklearn.linear_model import LinearRegression\n",
    "from sklearn.metrics import mean_squared_error\n",
    "import numpy as np\n",
    "model_1 = LinearRegression()\n",
    "model_1.fit(housing_num_tr, housing_labels)\n",
    "lin_predictions=model_1.predict(housing_num_tr)\n",
    "lin_mse=mean_squared_error(housing_labels,lin_predictions)\n",
    "lin_rmse=np.sqrt(lin_mse)\n",
    "lin_rmse\n"
   ]
  },
  {
   "cell_type": "markdown",
   "id": "cc890673",
   "metadata": {},
   "source": [
    "# Model_2"
   ]
  },
  {
   "cell_type": "code",
   "execution_count": 13,
   "id": "9998b06b",
   "metadata": {},
   "outputs": [],
   "source": [
    "from sklearn.tree import DecisionTreeRegressor\n",
    "model_2 = DecisionTreeRegressor()\n",
    "model_2.fit(housing_num_tr, housing_labels)\n",
    "dtree_predictions=model_2.predict(housing_num_tr)\n",
    "dtree_mse=mean_squared_error(housing_labels,dtree_predictions)\n",
    "dtree_rmse=np.sqrt(dtree_mse)\n",
    "dtree_rmse"
   ]
  },
  {
   "cell_type": "markdown",
   "id": "76dccae2",
   "metadata": {},
   "source": [
    "## Model_3"
   ]
  },
  {
   "cell_type": "code",
   "execution_count": 14,
   "id": "90793608",
   "metadata": {},
   "outputs": [],
   "source": [
    "from sklearn.ensemble import RandomForestRegressor\n",
    "model_3 = RandomForestRegressor()\n",
    "model_3.fit(housing_num_tr, housing_labels)\n",
    "random_regressor_predictions=model_3.predict(housing_num_tr)\n",
    "rforest_mse=mean_squared_error(housing_labels,random_regressor_predictions)\n",
    "rforest_rmse=np.sqrt(rforest_mse)\n",
    "rforest_rmse"
   ]
  },
  {
   "cell_type": "markdown",
   "id": "ca6422a2",
   "metadata": {},
   "source": [
    "# CROSS VALIDATION "
   ]
  },
  {
   "cell_type": "code",
   "execution_count": 15,
   "id": "b01b55a1",
   "metadata": {},
   "outputs": [],
   "source": [
    "from sklearn.model_selection import cross_val_score\n",
    "\n",
    "scores_1 = cross_val_score(model_1,housing_num_tr,housing_labels,scoring='neg_mean_squared_error',cv=10)\n",
    "rmse_scores_1 = np.sqrt(-scores_1)\n",
    "rmse_scores_1"
   ]
  },
  {
   "cell_type": "code",
   "execution_count": 16,
   "id": "2992d431",
   "metadata": {},
   "outputs": [],
   "source": [
    "scores_2 = cross_val_score(model_2,housing_num_tr,housing_labels,scoring='neg_mean_squared_error',cv=10)\n",
    "rmse_scores_2 = np.sqrt(-scores_2)\n",
    "rmse_scores_2"
   ]
  },
  {
   "cell_type": "code",
   "execution_count": 17,
   "id": "ec6bd9c4",
   "metadata": {},
   "outputs": [],
   "source": [
    "scores_3 = cross_val_score(model_3,housing_num_tr,housing_labels,scoring='neg_mean_squared_error',cv=10)\n",
    "rmse_scores_3 = np.sqrt(-scores_3)\n",
    "rmse_scores_3"
   ]
  },
  {
   "cell_type": "code",
   "execution_count": 18,
   "id": "a08fc864",
   "metadata": {},
   "outputs": [],
   "source": [
    "def print_scores(string, scores):\n",
    "    print(f'{string}\\n')\n",
    "    print(\"Scores are:\", scores)\n",
    "    print('Mean:', scores.mean())\n",
    "    print('Standard Deviation:', scores.std(), '\\n')\n",
    "\n",
    "print_scores('Model-Linear Regression', rmse_scores_1)\n",
    "print_scores('Model-Decision Tree Regressor', rmse_scores_2)\n",
    "print_scores('Model-Random Forest Regressor', rmse_scores_3)"
   ]
  },
  {
   "cell_type": "markdown",
   "id": "286cdc48",
   "metadata": {},
   "source": [
    "## Model Testing on Test Data-Choosing Random Forest Regressor as our Model\n",
    "\n"
   ]
  },
  {
   "cell_type": "code",
   "execution_count": 19,
   "id": "a35a27e4",
   "metadata": {},
   "outputs": [],
   "source": [
    "x_test = strat_test_set.drop('MEDV',axis=1)\n",
    "y_test = strat_test_set['MEDV'].copy()\n",
    "x_test_prepared = my_pipeline.transform(x_test)\n",
    "final_predictions = model_3.predict(x_test_prepared)\n",
    "final_mse = mean_squared_error(y_test,final_predictions)\n",
    "final_rmse = np.sqrt(final_mse)\n",
    "final_rmse\n",
    "\n",
    "print(final_predictions,list(y_test))"
   ]
  },
  {
   "cell_type": "markdown",
   "id": "7fed53b0",
   "metadata": {},
   "source": [
    "## Saving our Model through Joblib and using it \n"
   ]
  },
  {
   "cell_type": "code",
   "execution_count": 20,
   "id": "44cc2cc7",
   "metadata": {},
   "outputs": [],
   "source": [
    "from joblib import dump,load\n",
    "dump(model_3,'dragon.joblib')\n",
    "model = load('dragon.joblib')\n",
    "\n",
    "features = np.array([x_test_prepared[0]])\n",
    "model.predict(features)"
   ]
  },
  {
   "cell_type": "code",
   "execution_count": null,
   "id": "0d40764a",
   "metadata": {},
   "outputs": [],
   "source": []
  },
  {
   "cell_type": "code",
   "execution_count": null,
   "id": "d7cb7a2a",
   "metadata": {},
   "outputs": [],
   "source": []
  }
 ],
 "metadata": {
  "kernelspec": {
   "display_name": "Python 3 (ipykernel)",
   "language": "python",
   "name": "python3"
  },
  "language_info": {
   "codemirror_mode": {
    "name": "ipython",
    "version": 3
   },
   "file_extension": ".py",
   "mimetype": "text/x-python",
   "name": "python",
   "nbconvert_exporter": "python",
   "pygments_lexer": "ipython3",
   "version": "3.10.6"
  }
 },
 "nbformat": 4,
 "nbformat_minor": 5
}
